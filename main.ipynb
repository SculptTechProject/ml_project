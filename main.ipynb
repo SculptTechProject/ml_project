{
 "cells": [
  {
   "cell_type": "code",
   "execution_count": null,
   "id": "ef4747ce",
   "metadata": {},
   "outputs": [
    {
     "name": "stdout",
     "output_type": "stream",
     "text": [
      "(20640, 8)\n",
      "(20640, 45)\n",
      "200 0.1: 84.39%\n",
      "250 0.1: 84.55%\n",
      "350 0.1: 84.41%\n",
      "200 0.05: 83.92%\n",
      "250 0.05: 84.13%\n",
      "350 0.05: 84.48%\n",
      "200 0.001: 22.16%\n",
      "250 0.001: 26.42%\n",
      "350 0.001: 33.92%\n"
     ]
    }
   ],
   "source": [
    "from sklearn.datasets import fetch_california_housing\n",
    "from sklearn.model_selection import train_test_split\n",
    "from sklearn.metrics import r2_score\n",
    "from sklearn.preprocessing import PolynomialFeatures\n",
    "from sklearn.ensemble import HistGradientBoostingRegressor\n",
    "\n",
    "housing = fetch_california_housing()\n",
    "\n",
    "x = housing.data\n",
    "y = housing.target\n",
    "\n",
    "poly = PolynomialFeatures()\n",
    "\n",
    "print(x.shape)\n",
    "\n",
    "x = poly.fit_transform(x)\n",
    "\n",
    "print(x.shape)\n",
    "\n",
    "x_train, x_test, y_train, y_test = train_test_split(x, y, test_size=0.2, random_state=432)\n",
    "\n",
    "for j in [0.1, 0.05, 0.001]:\n",
    "    for i in [200, 250, 350,]:\n",
    "        model = HistGradientBoostingRegressor(\n",
    "            max_iter=i,\n",
    "            learning_rate=j,\n",
    "        )\n",
    "        model.fit(x_train, y_train)\n",
    "        y_pred = model.predict(x_test)\n",
    "\n",
    "        r2 = r2_score(y_test, y_pred=y_pred)\n"
   ]
  }
 ],
 "metadata": {
  "kernelspec": {
   "display_name": ".venv",
   "language": "python",
   "name": "python3"
  },
  "language_info": {
   "codemirror_mode": {
    "name": "ipython",
    "version": 3
   },
   "file_extension": ".py",
   "mimetype": "text/x-python",
   "name": "python",
   "nbconvert_exporter": "python",
   "pygments_lexer": "ipython3",
   "version": "3.13.2"
  }
 },
 "nbformat": 4,
 "nbformat_minor": 5
}
